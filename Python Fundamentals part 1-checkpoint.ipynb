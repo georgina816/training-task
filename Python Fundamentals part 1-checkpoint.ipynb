{
 "cells": [
  {
   "cell_type": "code",
   "execution_count": 7,
   "metadata": {},
   "outputs": [
    {
     "name": "stdout",
     "output_type": "stream",
     "text": [
      "Hello! What is your name?Georgina\n",
      "Pick a number between 1 and 10. 6\n",
      "You got it wrong, it was 7\n"
     ]
    }
   ],
   "source": [
    "# Write a program that does the following:\n",
    "# a) Stores a random number (1-10) in a variable – see hint below.\n",
    "# b) Asks a user for their name and stores this in a variable.\n",
    "# c) Asks a user to guess the number between 1 and 10.\n",
    "# d) Tells the user whether they have guessed correctly.\n",
    "import random\n",
    "rand_num = random.randint(1,10)\n",
    "my_name = input(\"Hello! What is your name?\")\n",
    "guess_number = int(input(\"Pick a number between 1 and 10. \"))\n",
    "if rand_num == guess_number:\n",
    "    print (\"Well done, you got it right!\")\n",
    "else:\n",
    "    print(\"You got it wrong, it was\", rand_num)"
   ]
  },
  {
   "cell_type": "code",
   "execution_count": 11,
   "metadata": {},
   "outputs": [
    {
     "name": "stdout",
     "output_type": "stream",
     "text": [
      "Hello, what is your name?Georgina\n",
      "Well, Georgina Pick a number between 1 to 100 and I will tell you a joke.\n",
      "Pick a numner.8\n",
      "What's the best thing about Switzerland? I don't know, but th flag is a big plus!\n"
     ]
    }
   ],
   "source": [
    "my_name = input(\"Hello, what is your name?\")\n",
    "print(\"Well, \" + my_name + \" Pick a number between 1 to 100 and I will tell you a joke.\")\n",
    "my_number = int(input(\"Pick a numner.\"))\n",
    "if my_number <=33:\n",
    "    print(\"What's the best thing about Switzerland? I don't know, but th flag is a big plus!\")\n",
    "elif my_number >33 and my_number <=66:\n",
    "    print(\"I invented a new word, plagiarism!\")\n",
    "else:\n",
    "    print(\"Why don't scientist trust atoms? Because they make up everything!\")"
   ]
  },
  {
   "cell_type": "code",
   "execution_count": 13,
   "metadata": {},
   "outputs": [
    {
     "name": "stdout",
     "output_type": "stream",
     "text": [
      "What is your favourite starter?soup\n",
      "What is your favourite main meal?pizza\n",
      "What is your favourite dessert?ice cream\n",
      "What is your favourite drink?milk\n",
      "Your favourite meal is soup,pizza,ice cream with a glass of milk.\n"
     ]
    }
   ],
   "source": [
    "# Write a program that allows user to enter their favourite starter, main course, dessert and drink.\n",
    "\n",
    "starter = input(\"What is your favourite starter?\")\n",
    "main = input(\"What is your favourite main meal?\")\n",
    "dessert = input(\"What is your favourite dessert?\")\n",
    "drink = input(\"What is your favourite drink?\")\n",
    "print(\"Your favourite meal is \" + starter + \", \" + main + \"and \" + dessert + \" with a glass of \" + drink + \".\")"
   ]
  },
  {
   "cell_type": "code",
   "execution_count": 14,
   "metadata": {},
   "outputs": [
    {
     "name": "stdout",
     "output_type": "stream",
     "text": [
      "The value of the bike is: 2000\n",
      "The value of the bike is: 1800.0\n",
      "The value of the bike is: 1620.0\n",
      "The value of the bike is: 1458.0\n",
      "The value of the bike is: 1312.2\n",
      "The value of the bike is: 1180.98\n",
      "The value of the bike is: 1062.882\n",
      "The value of the bike is: 956.5938000000001\n"
     ]
    }
   ],
   "source": [
    "# A motorbike costs £2000 and loses 10% of its value every year. Using aloop, print the value of the bike every following year until it falls below £1000.\n",
    "bike = 2000\n",
    "while bike >900:\n",
    "    print(\"The value of the bike is:\", bike)\n",
    "    bike *= 0.9"
   ]
  },
  {
   "cell_type": "code",
   "execution_count": 27,
   "metadata": {},
   "outputs": [
    {
     "name": "stdout",
     "output_type": "stream",
     "text": [
      "What is your first number?6\n",
      "What is your second number?8\n",
      "What is your operator of choice +,-,/,*,**,%,//: %\n",
      "6\n"
     ]
    }
   ],
   "source": [
    "# Write a program which will ask for two numbers from a user. Then offer a menu to the user giving them a choice of operator.\n",
    "\n",
    "number1 = int(input(\"What is your first number?\"))\n",
    "number2 = int(input(\"What is your second number?\"))\n",
    "operator = input(\"What is your operator of choice +,-,/,*,**,%,//: \")\n",
    "if operator == \"+\":\n",
    "    print(number1+number2)\n",
    "elif operator == \"-\":\n",
    "    print(number1-number2)\n",
    "elif operator == \"*\":\n",
    "    print(number1*number2)\n",
    "elif operator == \"/\":\n",
    "    print(number1/number2)\n",
    "elif operator == \"**\":\n",
    "    print(number1**number2)\n",
    "elif operator == \"//\":\n",
    "    print(number1//number2)\n",
    "elif operator == \"%\":\n",
    "    print(number1%number2)\n",
    "else:\n",
    "    print(\"Invalid operator chosen\")"
   ]
  },
  {
   "cell_type": "code",
   "execution_count": null,
   "metadata": {},
   "outputs": [],
   "source": []
  }
 ],
 "metadata": {
  "kernelspec": {
   "display_name": "Python 3",
   "language": "python",
   "name": "python3"
  }
 },
 "nbformat": 4,
 "nbformat_minor": 4
}
