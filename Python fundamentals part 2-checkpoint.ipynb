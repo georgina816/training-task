{
 "cells": [
  {
   "cell_type": "code",
   "execution_count": 1,
   "metadata": {},
   "outputs": [
    {
     "name": "stdout",
     "output_type": "stream",
     "text": [
      "What is the value of the bike?20000\n",
      "The value of the bike is: 20000 The value of the bike will decrease by 10 percent each year.\n",
      "The value of the bike is: 20000\n",
      "The value of the bike is: 18000.0\n",
      "The value of the bike is: 16200.0\n",
      "The value of the bike is: 14580.0\n",
      "The value of the bike is: 13122.0\n",
      "The value of the bike is: 11809.800000000001\n",
      "The value of the bike is: 10628.820000000002\n",
      "The value of the bike is: 9565.938000000002\n",
      "The value of the bike is: 8609.344200000001\n",
      "The value of the bike is: 7748.409780000002\n",
      "The value of the bike is: 6973.568802000002\n",
      "The value of the bike is: 6276.211921800002\n",
      "The value of the bike is: 5648.590729620001\n",
      "The value of the bike is: 5083.731656658001\n",
      "The value of the bike is: 4575.358490992201\n",
      "The value of the bike is: 4117.822641892981\n",
      "The value of the bike is: 3706.0403777036827\n",
      "The value of the bike is: 3335.4363399333147\n",
      "The value of the bike is: 3001.8927059399834\n",
      "The value of the bike is: 2701.7034353459853\n",
      "The value of the bike is: 2431.533091811387\n",
      "The value of the bike is: 2188.3797826302484\n",
      "The value of the bike is: 1969.5418043672237\n",
      "The value of the bike is: 1772.5876239305014\n",
      "The value of the bike is: 1595.3288615374513\n",
      "The value of the bike is: 1435.7959753837063\n",
      "The value of the bike is: 1292.2163778453357\n",
      "The value of the bike is: 1162.994740060802\n",
      "The value of the bike is: 1046.695266054722\n",
      "The value of the bike is: 942.0257394492498\n"
     ]
    }
   ],
   "source": [
    "# As an extension to the motorbike task that costs £2000 and loses 10% of its value every year. Using a loop, print the value of the bike every following year until it falls below £1000 by using a function and passing in parameters.\n",
    "def procedure1(inp_bike):\n",
    "    bike = inp_bike\n",
    "    print(\"The value of the bike is:\", bike, \"The value of the bike will decrease by 10 percent each year.\")\n",
    "\n",
    "bike = int(input(\"What is the value of the bike?\"))\n",
    "\n",
    "procedure1(bike)\n",
    "\n",
    "while bike >900:\n",
    "    print(\"The value of the bike is:\", bike)\n",
    "    bike *= 0.9"
   ]
  },
  {
   "cell_type": "code",
   "execution_count": 2,
   "metadata": {},
   "outputs": [
    {
     "name": "stdout",
     "output_type": "stream",
     "text": [
      "Pick two numbers and math operator and I will complete the calculation.\n",
      "What is your first number?5\n",
      "What is your second number?6\n",
      "What is your operator of choice +,-,/,*,**,%,//: -\n",
      "-1\n"
     ]
    }
   ],
   "source": [
    "# Write a program which will ask for two numbers from a user. Then offer a menu to the user giving them a choice of maths operators. Once the user has selected which operator they wish to use, perform the calculation by using a procedure and passing parameters.\n",
    "print(\"Pick two numbers and math operator and I will complete the calculation.\")\n",
    "\n",
    "def procedure_2(inp_num_1, inp_num_2, inp_op):\n",
    "    number1 = inp_num_1\n",
    "    number2 = inp_num_2\n",
    "    operator = inp_op\n",
    "number1 = int(input(\"What is your first number?\"))\n",
    "number2 = int(input(\"What is your second number?\"))\n",
    "operator = input(\"What is your operator of choice +,-,/,*,**,%,//: \")\n",
    "\n",
    "procedure_2(number1, number2, operator)\n",
    "\n",
    "if operator == \"+\":\n",
    "    print(number1+number2)\n",
    "elif operator == \"-\":\n",
    "    print(number1-number2)\n",
    "elif operator == \"*\":\n",
    "    print(number1*number2)\n",
    "elif operator == \"/\":\n",
    "    print(number1/number2)\n",
    "elif operator == \"**\":\n",
    "    print(number1**number2)\n",
    "elif operator == \"//\":\n",
    "    print(number1//number2)\n",
    "elif operator == \"%\":\n",
    "    print(number1%number2)\n",
    "else:\n",
    "    print(\"Invalid operator chosen\")"
   ]
  },
  {
   "cell_type": "code",
   "execution_count": null,
   "metadata": {},
   "outputs": [],
   "source": []
  }
 ],
 "metadata": {
  "kernelspec": {
   "display_name": "Python 3",
   "language": "python",
   "name": "python3"
  },
  "language_info": {
   "codemirror_mode": {
    "name": "ipython",
    "version": 3
   },
   "file_extension": ".py",
   "mimetype": "text/x-python",
   "name": "python",
   "nbconvert_exporter": "python",
   "pygments_lexer": "ipython3",
   "version": "3.8.3"
  }
 },
 "nbformat": 4,
 "nbformat_minor": 4
}
