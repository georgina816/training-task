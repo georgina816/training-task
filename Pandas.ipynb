{
 "cells": [
  {
   "cell_type": "code",
   "execution_count": 3,
   "metadata": {},
   "outputs": [
    {
     "name": "stdout",
     "output_type": "stream",
     "text": [
      "5\n"
     ]
    }
   ],
   "source": [
    "#Count number of columns\n",
    "import pandas as pd\n",
    "holiday = pd.read_csv(\"Holiday.csv\")\n",
    "columns = holiday.columns\n",
    "num_columns = len(columns)\n",
    "print(num_columns)"
   ]
  },
  {
   "cell_type": "code",
   "execution_count": 4,
   "metadata": {},
   "outputs": [
    {
     "name": "stdout",
     "output_type": "stream",
     "text": [
      "16\n"
     ]
    }
   ],
   "source": [
    "#Count number of rows\n",
    "import pandas as pd\n",
    "holiday = pd.read_csv(\"Holiday.csv\")\n",
    "index = holiday.index\n",
    "num_rows = len(index)\n",
    "print(num_rows)"
   ]
  },
  {
   "cell_type": "code",
   "execution_count": 6,
   "metadata": {},
   "outputs": [
    {
     "name": "stdout",
     "output_type": "stream",
     "text": [
      "  Destination  Score out of 10  Average hotel star rating  \\\n",
      "2         USA              3.0                        5.0   \n",
      "3       Spain              2.0                        1.0   \n",
      "4      France              6.0                        3.0   \n",
      "5       Italy              8.0                        4.0   \n",
      "6    Thailand              5.0                        5.0   \n",
      "7      Greece              6.0                        3.0   \n",
      "8     Iceland              3.0                        4.0   \n",
      "\n",
      "   Number of all-inclusive hotels Most visited city  Unnamed: 5  Unnamed: 6  \n",
      "2                            32.0         Manhatton         NaN         NaN  \n",
      "3                             1.0         Barcelona         NaN         NaN  \n",
      "4                            21.0             Paris         NaN         NaN  \n",
      "5                             7.0            Venice         NaN         NaN  \n",
      "6                            76.0           Bangkok         NaN         NaN  \n",
      "7                            65.0            Athens         NaN         NaN  \n",
      "8                             4.0         Reykjavik         NaN         NaN  \n"
     ]
    }
   ],
   "source": [
    "#Print row 3-8 ( using iloc/loc)\n",
    "holiday = pd.read_csv(\"Holiday.csv\")\n",
    "print(holiday.iloc[2:9])"
   ]
  },
  {
   "cell_type": "code",
   "execution_count": 10,
   "metadata": {},
   "outputs": [
    {
     "data": {
      "text/plain": [
       "37.666666666666664"
      ]
     },
     "execution_count": 10,
     "metadata": {},
     "output_type": "execute_result"
    }
   ],
   "source": [
    "#Find the mean number of all-inclusive hotels across all destinations.\n",
    "holiday = pd.read_csv(\"Holiday.csv\")\n",
    "holiday[\"Number of all-inclusive hotels\"].mean()"
   ]
  },
  {
   "cell_type": "code",
   "execution_count": 28,
   "metadata": {},
   "outputs": [
    {
     "data": {
      "text/plain": [
       "Destination                        Finland\n",
       "Score out of 10                          1\n",
       "Average hotel star rating                1\n",
       "Number of all-inclusive hotels           9\n",
       "Most visited city                 Helsinki\n",
       "Name: 14, dtype: object"
      ]
     },
     "execution_count": 28,
     "metadata": {},
     "output_type": "execute_result"
    }
   ],
   "source": [
    "#Find the lowest scoring destination.\n",
    "holiday = pd.read_csv(\"Holiday.csv\")\n",
    "holiday[\"Score out of 10\"].min()\n",
    "holiday[\"Score out of 10\"].idxmin()\n",
    "holiday.iloc[14,:]\n"
   ]
  },
  {
   "cell_type": "code",
   "execution_count": 31,
   "metadata": {},
   "outputs": [
    {
     "data": {
      "text/plain": [
       "Destination                         Canada\n",
       "Score out of 10                         10\n",
       "Average hotel star rating                5\n",
       "Number of all-inclusive hotels          99\n",
       "Most visited city                 Montreal\n",
       "Name: 13, dtype: object"
      ]
     },
     "execution_count": 31,
     "metadata": {},
     "output_type": "execute_result"
    }
   ],
   "source": [
    "#Find the highest scoring destination.\n",
    "holiday = pd.read_csv(\"Holiday.csv\")\n",
    "holiday[\"Score out of 10\"].max()\n",
    "holiday[\"Score out of 10\"].idxmax()\n",
    "holiday.iloc[13,:]"
   ]
  },
  {
   "cell_type": "code",
   "execution_count": 23,
   "metadata": {},
   "outputs": [
    {
     "name": "stdout",
     "output_type": "stream",
     "text": [
      "    Destination  Score out of 10  Average hotel star rating  \\\n",
      "0        Turkey                7                          3   \n",
      "1   New Zealand                9                          4   \n",
      "2           USA                3                          5   \n",
      "4        France                6                          3   \n",
      "6      Thailand                5                          5   \n",
      "7        Greece                6                          3   \n",
      "9       Germany                8                          2   \n",
      "10  Switzerland                2                          4   \n",
      "11    Australia                9                          5   \n",
      "12      Belgium                8                          3   \n",
      "13       Canada               10                          5   \n",
      "\n",
      "    Number of all-inclusive hotels Most visited city  \n",
      "0                               13          Istanbul  \n",
      "1                               45        Queenstown  \n",
      "2                               32         Manhatton  \n",
      "4                               21             Paris  \n",
      "6                               76           Bangkok  \n",
      "7                               65            Athens  \n",
      "9                               23            Berlin  \n",
      "10                              59            Geneva  \n",
      "11                              88         Melbourne  \n",
      "12                              23          Brussels  \n",
      "13                              99          Montreal  \n"
     ]
    }
   ],
   "source": [
    "#Find all the destinations where there are more than 9 all-inclusive hotels.\n",
    "holiday = pd.read_csv(\"Holiday.csv\")\n",
    "my_filter = holiday[\"Number of all-inclusive hotels\"]>9\n",
    "above_9 = holiday[my_filter]\n",
    "print(above_9)"
   ]
  },
  {
   "cell_type": "code",
   "execution_count": 20,
   "metadata": {},
   "outputs": [
    {
     "data": {
      "text/html": [
       "<div>\n",
       "<style scoped>\n",
       "    .dataframe tbody tr th:only-of-type {\n",
       "        vertical-align: middle;\n",
       "    }\n",
       "\n",
       "    .dataframe tbody tr th {\n",
       "        vertical-align: top;\n",
       "    }\n",
       "\n",
       "    .dataframe thead th {\n",
       "        text-align: right;\n",
       "    }\n",
       "</style>\n",
       "<table border=\"1\" class=\"dataframe\">\n",
       "  <thead>\n",
       "    <tr style=\"text-align: right;\">\n",
       "      <th></th>\n",
       "      <th>Destination</th>\n",
       "      <th>Score out of 10</th>\n",
       "      <th>Average hotel star rating</th>\n",
       "      <th>Number of all-inclusive hotels</th>\n",
       "      <th>Most visited city</th>\n",
       "    </tr>\n",
       "  </thead>\n",
       "  <tbody>\n",
       "    <tr>\n",
       "      <th>1</th>\n",
       "      <td>New Zealand</td>\n",
       "      <td>9</td>\n",
       "      <td>4</td>\n",
       "      <td>45</td>\n",
       "      <td>Queenstown</td>\n",
       "    </tr>\n",
       "    <tr>\n",
       "      <th>11</th>\n",
       "      <td>Australia</td>\n",
       "      <td>9</td>\n",
       "      <td>5</td>\n",
       "      <td>88</td>\n",
       "      <td>Melbourne</td>\n",
       "    </tr>\n",
       "    <tr>\n",
       "      <th>13</th>\n",
       "      <td>Canada</td>\n",
       "      <td>10</td>\n",
       "      <td>5</td>\n",
       "      <td>99</td>\n",
       "      <td>Montreal</td>\n",
       "    </tr>\n",
       "  </tbody>\n",
       "</table>\n",
       "</div>"
      ],
      "text/plain": [
       "    Destination  Score out of 10  Average hotel star rating  \\\n",
       "1   New Zealand                9                          4   \n",
       "11    Australia                9                          5   \n",
       "13       Canada               10                          5   \n",
       "\n",
       "    Number of all-inclusive hotels Most visited city  \n",
       "1                               45        Queenstown  \n",
       "11                              88         Melbourne  \n",
       "13                              99          Montreal  "
      ]
     },
     "execution_count": 20,
     "metadata": {},
     "output_type": "execute_result"
    }
   ],
   "source": [
    "#Filter the data by destination and score abholiday = pd.read_csv(\"Holiday.csv\")\n",
    "holiday = pd.read_csv(\"Holiday.csv\")\n",
    "my_filter = holiday[\"Score out of 10\"]>8\n",
    "highscore = holiday[my_filter]\n",
    "highscore.head()\n"
   ]
  },
  {
   "cell_type": "code",
   "execution_count": 14,
   "metadata": {},
   "outputs": [
    {
     "data": {
      "text/html": [
       "<div>\n",
       "<style scoped>\n",
       "    .dataframe tbody tr th:only-of-type {\n",
       "        vertical-align: middle;\n",
       "    }\n",
       "\n",
       "    .dataframe tbody tr th {\n",
       "        vertical-align: top;\n",
       "    }\n",
       "\n",
       "    .dataframe thead th {\n",
       "        text-align: right;\n",
       "    }\n",
       "</style>\n",
       "<table border=\"1\" class=\"dataframe\">\n",
       "  <thead>\n",
       "    <tr style=\"text-align: right;\">\n",
       "      <th></th>\n",
       "      <th>Destination</th>\n",
       "      <th>Score out of 10</th>\n",
       "      <th>Average hotel star rating</th>\n",
       "      <th>Number of all-inclusive hotels</th>\n",
       "      <th>Most visited city</th>\n",
       "    </tr>\n",
       "  </thead>\n",
       "  <tbody>\n",
       "    <tr>\n",
       "      <th>14</th>\n",
       "      <td>Finland</td>\n",
       "      <td>1</td>\n",
       "      <td>1</td>\n",
       "      <td>9</td>\n",
       "      <td>Helsinki</td>\n",
       "    </tr>\n",
       "  </tbody>\n",
       "</table>\n",
       "</div>"
      ],
      "text/plain": [
       "   Destination  Score out of 10  Average hotel star rating  \\\n",
       "14     Finland                1                          1   \n",
       "\n",
       "    Number of all-inclusive hotels Most visited city  \n",
       "14                               9          Helsinki  "
      ]
     },
     "execution_count": 14,
     "metadata": {},
     "output_type": "execute_result"
    }
   ],
   "source": [
    "#Filter the data by destination and score below 2\n",
    "holiday = pd.read_csv(\"Holiday.csv\")\n",
    "my_filter = holiday[\"Score out of 10\"]<2\n",
    "highscore = holiday[my_filter]\n",
    "highscore.head()"
   ]
  },
  {
   "cell_type": "code",
   "execution_count": 35,
   "metadata": {},
   "outputs": [
    {
     "name": "stdout",
     "output_type": "stream",
     "text": [
      "0.41728069293470627\n"
     ]
    }
   ],
   "source": [
    "#Is there a correlation between number of all-inclusive hotels and score?\n",
    "holiday = pd.read_csv(\"Holiday.csv\")\n",
    "column_1 = holiday[\"Score out of 10\"]\n",
    "column_2 = holiday[\"Number of all-inclusive hotels\"]\n",
    "correlation = column_1.corr(column_2)\n",
    "print(correlation)\n"
   ]
  },
  {
   "cell_type": "code",
   "execution_count": 58,
   "metadata": {},
   "outputs": [
    {
     "data": {
      "text/plain": [
       "Text(0, 0.5, 'Scores')"
      ]
     },
     "execution_count": 58,
     "metadata": {},
     "output_type": "execute_result"
    },
    {
     "data": {
      "image/png": "[encoded data removed]",
      "text/plain": [
       "<Figure size 1080x360 with 1 Axes>"
      ]
     },
     "metadata": {
      "needs_background": "light"
     },
     "output_type": "display_data"
    }
   ],
   "source": [
    "#Create a data visualisation diagram to show destination and highest scores?\n",
    "import matplotlib.pyplot as plt\n",
    "holiday = pd.read_csv(\"Holiday.csv\")\n",
    "holiday.plot(x = 'Destination', figsize = (15,5))\n",
    "plt.xlabel(\"Destination\")\n",
    "plt.ylabel(\"Scores\")\n"
   ]
  },
  {
   "cell_type": "code",
   "execution_count": 62,
   "metadata": {},
   "outputs": [
    {
     "data": {
      "text/plain": [
       "Text(0, 0.5, 'Scores')"
      ]
     },
     "execution_count": 62,
     "metadata": {},
     "output_type": "execute_result"
    },
    {
     "data": {
      "image/png": "[encoded data removed]",
      "text/plain": [
       "<Figure size 1080x360 with 1 Axes>"
      ]
     },
     "metadata": {
      "needs_background": "light"
     },
     "output_type": "display_data"
    }
   ],
   "source": [
    "#Create a data visualisation diagram to show destination and highest scores?\n",
    "import matplotlib.pyplot as plt\n",
    "holiday = pd.read_csv(\"Holiday.csv\")\n",
    "holiday.plot(x = 'Destination', figsize = (15,5), kind = 'bar')\n",
    "plt.xlabel(\"Destination\")\n",
    "plt.ylabel(\"Scores\")\n"
   ]
  },
  {
   "cell_type": "code",
   "execution_count": null,
   "metadata": {},
   "outputs": [],
   "source": []
  }
 ],
 "metadata": {
  "kernelspec": {
   "display_name": "Python 3",
   "language": "python",
   "name": "python3"
  },
  "language_info": {
   "codemirror_mode": {
    "name": "ipython",
    "version": 3
   },
   "file_extension": ".py",
   "mimetype": "text/x-python",
   "name": "python",
   "nbconvert_exporter": "python",
   "pygments_lexer": "ipython3",
   "version": "3.8.3"
  }
 },
 "nbformat": 4,
 "nbformat_minor": 4
}
