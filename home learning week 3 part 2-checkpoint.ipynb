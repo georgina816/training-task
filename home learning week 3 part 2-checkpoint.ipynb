{
 "cells": [
  {
   "cell_type": "code",
   "execution_count": 3,
   "metadata": {},
   "outputs": [
    {
     "name": "stdout",
     "output_type": "stream",
     "text": [
      "[[19 22]\n",
      " [43 50]]\n",
      "[62 72]\n"
     ]
    }
   ],
   "source": [
    "#Create two arrays a and b, stack these two arrays vertically use the np.dot and np.sum to calculate totals\n",
    "# column\n",
    "\n",
    "import numpy as np\n",
    "a = np.arange(1,5).reshape (2,2)\n",
    "b = np.arange(5,9).reshape (2,2)\n",
    "c = np.dot(a,b)\n",
    "print(c)\n",
    "e = np.sum(c, axis = 0)\n",
    "print(e)"
   ]
  },
  {
   "cell_type": "code",
   "execution_count": 4,
   "metadata": {},
   "outputs": [
    {
     "name": "stdout",
     "output_type": "stream",
     "text": [
      "[[19 22]\n",
      " [43 50]]\n",
      "[41 93]\n"
     ]
    }
   ],
   "source": [
    "#Create two arrays a and b, stack these two arrays vertically use the np.dot and np.sum to calculate totals\n",
    "# row\n",
    "\n",
    "a = np.arange(1,5).reshape (2,2)\n",
    "b = np.arange(5,9).reshape (2,2)\n",
    "c = np.dot(a,b)\n",
    "print(c)\n",
    "e = np.sum(c, axis = 1)\n",
    "print(e)"
   ]
  },
  {
   "cell_type": "code",
   "execution_count": 17,
   "metadata": {},
   "outputs": [
    {
     "name": "stdout",
     "output_type": "stream",
     "text": [
      "[1, 1, 1, 2, 2, 2, 3, 3, 3, 1, 2, 3, 1, 2, 3, 1, 2, 3]\n"
     ]
    }
   ],
   "source": [
    "# prin the pattern 1,1,1,2,2,2,3,3,3,1,2,3,1,2,3,1,2,3\n",
    "my_list_1 = [1,1,1]\n",
    "my_list_2 = [2,2,2]\n",
    "my_list_3 = [3,3,3]\n",
    "my_list = [1,2,3]\n",
    "print(my_list_1 + my_list_2 + my_list_3+ my_list + my_list + my_list)"
   ]
  },
  {
   "cell_type": "code",
   "execution_count": 56,
   "metadata": {},
   "outputs": [
    {
     "name": "stdout",
     "output_type": "stream",
     "text": [
      "[1 2 3 4 5 6 7 8]\n"
     ]
    }
   ],
   "source": [
    "# In two arrays a ( 1,2,3,4,5) and b ( 4,5,6,7,8,9) – remove all repeating items present in array b\n",
    "import numpy as np\n",
    "arrays = [[1,2,3,4,5], [4,5,6,7,8,]]\n",
    "unique_numbers = np.unique(arrays)\n",
    "print(unique_numbers)\n",
    "\n",
    "#cannot print to 9 as the arrays are not the same length "
   ]
  },
  {
   "cell_type": "code",
   "execution_count": 67,
   "metadata": {},
   "outputs": [
    {
     "name": "stdout",
     "output_type": "stream",
     "text": [
      "[5 6 7 8] 26\n"
     ]
    }
   ],
   "source": [
    "#Get all items between 5 and 10 from a and b and sum them together\n",
    "arrays = [[1,2,3,4,5], [4,5,6,7,8,]]\n",
    "unique_numbers = np.unique(arrays)\n",
    "sum_together = np.sum(unique_numbers[4:9])\n",
    "print(unique_numbers[4:9], sum_together)\n",
    "\n"
   ]
  },
  {
   "cell_type": "code",
   "execution_count": null,
   "metadata": {},
   "outputs": [],
   "source": []
  }
 ],
 "metadata": {
  "kernelspec": {
   "display_name": "Python 3",
   "language": "python",
   "name": "python3"
  },
  "language_info": {
   "codemirror_mode": {
    "name": "ipython",
    "version": 3
   },
   "file_extension": ".py",
   "mimetype": "text/x-python",
   "name": "python",
   "nbconvert_exporter": "python",
   "pygments_lexer": "ipython3",
   "version": "3.8.3"
  }
 },
 "nbformat": 4,
 "nbformat_minor": 4
}
